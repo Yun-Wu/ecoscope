{
 "cells": [
  {
   "cell_type": "markdown",
   "metadata": {},
   "source": [
    "# EarthRanger IO"
   ]
  },
  {
   "cell_type": "markdown",
   "metadata": {},
   "source": [
    "## Setup"
   ]
  },
  {
   "cell_type": "markdown",
   "metadata": {},
   "source": [
    "### Ecoscope"
   ]
  },
  {
   "cell_type": "code",
   "execution_count": null,
   "metadata": {},
   "outputs": [],
   "source": [
    "# !pip install ecoscope"
   ]
  },
  {
   "cell_type": "code",
   "execution_count": null,
   "metadata": {},
   "outputs": [],
   "source": [
    "import getpass\n",
    "import json\n",
    "import os\n",
    "import sys\n",
    "import uuid\n",
    "\n",
    "import geopandas as gpd\n",
    "import pandas as pd\n",
    "from shapely.geometry import Point\n",
    "\n",
    "import ecoscope\n",
    "\n",
    "ecoscope.init()"
   ]
  },
  {
   "cell_type": "markdown",
   "metadata": {},
   "source": [
    "### Google Drive Setup"
   ]
  },
  {
   "cell_type": "code",
   "execution_count": null,
   "metadata": {},
   "outputs": [],
   "source": [
    "output_dir = \"Ecoscope-Outputs\"\n",
    "\n",
    "if \"google.colab\" in sys.modules:\n",
    "    from google.colab import drive\n",
    "\n",
    "    drive.mount(\"/content/drive/\", force_remount=True)\n",
    "    output_dir = os.path.join(output_dir, \"/content/drive/MyDrive/\")\n",
    "\n",
    "os.makedirs(output_dir, exist_ok=True)"
   ]
  },
  {
   "cell_type": "markdown",
   "metadata": {},
   "source": [
    "### Connect to EarthRanger"
   ]
  },
  {
   "cell_type": "code",
   "execution_count": null,
   "metadata": {},
   "outputs": [],
   "source": [
    "ER_SERVER = os.getenv(\"ER_SERVER\", \"https://sandbox.pamdas.org\")\n",
    "ER_USERNAME = os.getenv(\"ER_USERNAME\", \"admin\")\n",
    "\n",
    "ER_PASSWORD = os.getenv(\"ER_PASSWORD\", \"\")\n",
    "\n",
    "if not ER_PASSWORD:\n",
    "    ER_PASSWORD = getpass.getpass(\"Please enter your ER password: \")\n",
    "\n",
    "er_io = ecoscope.io.EarthRangerIO(\n",
    "    server=ER_SERVER,\n",
    "    username=ER_USERNAME,\n",
    "    password=ER_PASSWORD,\n",
    "    tcp_limit=5,\n",
    "    sub_page_size=4000,\n",
    ")"
   ]
  },
  {
   "cell_type": "markdown",
   "metadata": {},
   "source": [
    "## GET `Event`"
   ]
  },
  {
   "cell_type": "markdown",
   "metadata": {},
   "source": [
    "### By `event_ids`\n",
    "Use this approach to download an individual `Event` if you know its id. Downloading from multiple ids at once is currently unsupported in ER."
   ]
  },
  {
   "cell_type": "code",
   "execution_count": null,
   "metadata": {},
   "outputs": [],
   "source": [
    "er_io.get_events(\n",
    "    event_ids=\"1ead840a-0545-480d-85e1-97e90a5cd03e\",\n",
    ")"
   ]
  },
  {
   "cell_type": "markdown",
   "metadata": {},
   "source": [
    "### By `event_type`\n",
    "Use this approach if you want to download events of a given event type (using the EventType ID from ER)"
   ]
  },
  {
   "cell_type": "code",
   "execution_count": null,
   "metadata": {},
   "outputs": [],
   "source": [
    "er_io.get_events(\n",
    "    event_type=[\"2adf7302-ecef-42af-9f7c-45992ce52dd0\"],\n",
    "    filter=json.dumps(\n",
    "        {\n",
    "            \"date_range\": {\n",
    "                \"lower\": pd.Timestamp(\"2022-05\", tz=\"utc\").isoformat(),\n",
    "                \"upper\": pd.Timestamp.utcnow().isoformat(),\n",
    "            }\n",
    "        }\n",
    "    ),\n",
    ")"
   ]
  },
  {
   "cell_type": "markdown",
   "metadata": {},
   "source": [
    "### Unpack `event_details` column of `JSON` data into individual columns"
   ]
  },
  {
   "cell_type": "code",
   "execution_count": null,
   "metadata": {},
   "outputs": [],
   "source": [
    "events_df = er_io.get_events(event_type=[\"2adf7302-ecef-42af-9f7c-45992ce52dd0\"])\n",
    "events_df.event_details"
   ]
  },
  {
   "cell_type": "code",
   "execution_count": null,
   "metadata": {},
   "outputs": [],
   "source": [
    "er_io._normalize_column(events_df, \"event_details\")\n",
    "events_df"
   ]
  },
  {
   "cell_type": "markdown",
   "metadata": {},
   "source": [
    "## POST `Event`\n",
    "\n",
    "Define events to be uploaded:"
   ]
  },
  {
   "cell_type": "code",
   "execution_count": null,
   "metadata": {},
   "outputs": [],
   "source": [
    "new_events = [\n",
    "    {\n",
    "        \"event_details\": {\n",
    "            \"carcassrep_ageofanimal\": None,\n",
    "            \"carcassrep_ageofcarcass\": None,\n",
    "            \"carcassrep_causeofdeath\": None,\n",
    "            \"carcassrep_sex\": None,\n",
    "            \"carcassrep_species\": None,\n",
    "            \"carcassrep_trophystatus\": None,\n",
    "        },\n",
    "        \"event_type\": \"carcass_rep\",\n",
    "        \"icon_id\": \"carcass_rep\",\n",
    "        \"id\": \"e29f9078-ee0a-4f06-b685-92e9ff266e9b\",\n",
    "        \"location\": {\"latitude\": -27.12759, \"longitude\": -109.40804},\n",
    "        \"priority\": 200,\n",
    "        \"state\": \"resolved\",\n",
    "        \"time\": pd.Timestamp(\"2022-03-15 15:44:00-0700\"),\n",
    "        \"title\": \"Carcass\",\n",
    "    },\n",
    "    {\n",
    "        \"event_details\": {\n",
    "            \"carcassrep_ageofanimal\": \"subadult\",\n",
    "            \"carcassrep_ageofcarcass\": \"less_than_a_day\",\n",
    "            \"carcassrep_causeofdeath\": \"unnaturalshot\",\n",
    "            \"carcassrep_sex\": \"male\",\n",
    "            \"carcassrep_species\": \"elephant\",\n",
    "            \"carcassrep_trophystatus\": \"removed\",\n",
    "        },\n",
    "        \"event_type\": \"carcass_rep\",\n",
    "        \"icon_id\": \"carcass_rep\",\n",
    "        \"id\": str(uuid.uuid4()),\n",
    "        \"location\": {\"latitude\": -27.11567, \"longitude\": -109.33147},\n",
    "        \"priority\": 300,\n",
    "        \"state\": \"new\",\n",
    "        \"time\": pd.Timestamp.utcnow() - pd.Timedelta(hours=1),\n",
    "        \"title\": \"Carcass\",\n",
    "    },\n",
    "]"
   ]
  },
  {
   "cell_type": "markdown",
   "metadata": {},
   "source": [
    "Read events as dataframe:"
   ]
  },
  {
   "cell_type": "code",
   "execution_count": null,
   "metadata": {},
   "outputs": [],
   "source": [
    "new_events_df = pd.DataFrame.from_dict(new_events)\n",
    "new_events_df"
   ]
  },
  {
   "cell_type": "markdown",
   "metadata": {},
   "source": [
    "Upload:"
   ]
  },
  {
   "cell_type": "code",
   "execution_count": null,
   "metadata": {},
   "outputs": [],
   "source": [
    "try:\n",
    "    er_io.post_event(events=new_events_df.iloc[[0]])\n",
    "except ecoscope.contrib.dasclient.DasClientException as e:\n",
    "    print(e)"
   ]
  },
  {
   "cell_type": "markdown",
   "metadata": {},
   "source": [
    "## PATCH `Event`"
   ]
  },
  {
   "cell_type": "code",
   "execution_count": null,
   "metadata": {},
   "outputs": [],
   "source": [
    "updated_event = pd.DataFrame(\n",
    "    [\n",
    "        {\n",
    "            \"priority\": 200,\n",
    "            \"state\": \"active\",\n",
    "            \"location\": {\n",
    "                \"longitude\": \"-109.25454848840066\",\n",
    "                \"latitude\": \"-27.09529454271872\",\n",
    "            },\n",
    "        }\n",
    "    ]\n",
    ")"
   ]
  },
  {
   "cell_type": "markdown",
   "metadata": {},
   "source": [
    "Patch"
   ]
  },
  {
   "cell_type": "code",
   "execution_count": null,
   "metadata": {},
   "outputs": [],
   "source": [
    "er_io.patch_event(event_id=\"d3fe3a66-b75c-44a8-8fd6-5bd01905dd00\", events=updated_event)"
   ]
  },
  {
   "cell_type": "markdown",
   "metadata": {},
   "source": [
    "## GET `Subjects`"
   ]
  },
  {
   "cell_type": "markdown",
   "metadata": {},
   "source": [
    "### by `id`"
   ]
  },
  {
   "cell_type": "code",
   "execution_count": null,
   "metadata": {},
   "outputs": [],
   "source": [
    "er_io.get_subjects(id=\"216b033d-c4ad-444a-9f41-baa6c97cde7d\")"
   ]
  },
  {
   "cell_type": "markdown",
   "metadata": {},
   "source": [
    "### By `SubjectGroup` `group_name`"
   ]
  },
  {
   "cell_type": "code",
   "execution_count": null,
   "metadata": {},
   "outputs": [],
   "source": [
    "er_io.get_subjects(group_name=\"Rhinos\")"
   ]
  },
  {
   "cell_type": "markdown",
   "metadata": {},
   "source": [
    "## GET `Observations`\n",
    "\n",
    "The output is an Ecoscope `Relocations` dataframe that has a core set of columns: `groupby_col`, `fixtime`, `junk_status`.\n",
    "\n",
    "All other columns are prepended by `extra__`. The `groupby_col` will be the `subject_id` and the index of the dataframe is the observation indices.\n",
    "\n",
    "Classic ER `Observation` format can be returned by passing in parameter `relocations=False`.\n",
    "\n",
    "Filter observation by setting `filter` to one of: None, 0, 1, 2 or 3\n",
    "- None returns everything\n",
    "- 0 filters out everything but observations with exclusion flag 0 (Pass back clean data)\n",
    "- 1 filters out everything but observations with exclusion flag 1 (Pass back manually filtered data)\n",
    "- 2 filters out everything but observations with exclusion flag 2 (Ppass back automatically filtered data)\n",
    "- 3 filters out everything but observations with exclusion flag 2 or 1 (Pass back both manual and automatic filtered data)"
   ]
  },
  {
   "cell_type": "code",
   "execution_count": null,
   "metadata": {},
   "outputs": [],
   "source": [
    "since = pd.Timestamp.utcnow() - pd.Timedelta(days=365)\n",
    "until = pd.Timestamp.utcnow()"
   ]
  },
  {
   "cell_type": "markdown",
   "metadata": {},
   "source": [
    "### By `SubjectGroup` `group_name`:"
   ]
  },
  {
   "cell_type": "code",
   "execution_count": null,
   "metadata": {},
   "outputs": [],
   "source": [
    "relocs = er_io.get_subjectgroup_observations(\n",
    "    group_name=\"Rhinos\",\n",
    "    include_inactive=True,\n",
    "    include_subject_details=True,\n",
    "    include_source_details=True,\n",
    "    include_subjectsource_details=True,\n",
    "    since=since.isoformat(),\n",
    "    until=until.isoformat(),\n",
    "    filter=0,\n",
    "    include_details=True,\n",
    ")\n",
    "relocs"
   ]
  },
  {
   "cell_type": "markdown",
   "metadata": {},
   "source": [
    "### By `subject_id`"
   ]
  },
  {
   "cell_type": "code",
   "execution_count": null,
   "metadata": {},
   "outputs": [],
   "source": [
    "relocs = er_io.get_subject_observations(\n",
    "    subject_ids=[\n",
    "        \"216b033d-c4ad-444a-9f41-baa6c97cde7d\",\n",
    "        \"aca64374-a102-4ef5-9b58-60fd0bf64a61\",\n",
    "    ],\n",
    "    include_subject_details=True,\n",
    "    include_source_details=True,\n",
    "    include_subjectsource_details=True,\n",
    "    since=since,\n",
    "    until=until,\n",
    "    filter=0,\n",
    "    include_details=True,\n",
    ")\n",
    "relocs"
   ]
  },
  {
   "cell_type": "markdown",
   "metadata": {},
   "source": [
    "### By `source_id`"
   ]
  },
  {
   "cell_type": "code",
   "execution_count": null,
   "metadata": {},
   "outputs": [],
   "source": [
    "relocs = er_io.get_source_observations(\n",
    "    source_ids=[\n",
    "        \"d8f92f6e-1121-4833-b11c-6fc1ca334ff0\",\n",
    "        \"f46b6e92-a09d-41dd-bc42-8244870189fd\",\n",
    "    ],\n",
    "    include_source_details=True,\n",
    "    since=since,\n",
    "    until=until,\n",
    "    filter=0,\n",
    "    include_details=True,\n",
    ")\n",
    "relocs"
   ]
  },
  {
   "cell_type": "markdown",
   "metadata": {},
   "source": [
    "## GET `Patrols`"
   ]
  },
  {
   "cell_type": "code",
   "execution_count": null,
   "metadata": {},
   "outputs": [],
   "source": [
    "now = pd.Timestamp.utcnow().isoformat()\n",
    "\n",
    "er_io.get_patrols(\n",
    "    filter=json.dumps(\n",
    "        {\n",
    "            \"date_range\": {\"upper\": now},\n",
    "            \"patrol_type\": [\"c6f88fd2-2b87-477a-9c23-3bc4b3eb845d\"],\n",
    "        }\n",
    "    )\n",
    ")"
   ]
  },
  {
   "cell_type": "markdown",
   "metadata": {},
   "source": [
    "## GET `Observations` for a `Patrol`"
   ]
  },
  {
   "cell_type": "code",
   "execution_count": null,
   "metadata": {},
   "outputs": [],
   "source": [
    "patrol_df = er_io.get_patrols()\n",
    "\n",
    "relocs = er_io.get_observations_for_patrols(\n",
    "    patrol_df,\n",
    "    include_source_details=False,\n",
    "    include_subject_details=False,\n",
    "    include_subjectsource_details=False,\n",
    ")"
   ]
  },
  {
   "cell_type": "markdown",
   "metadata": {},
   "source": [
    "## GET `Users`"
   ]
  },
  {
   "cell_type": "code",
   "execution_count": null,
   "metadata": {},
   "outputs": [],
   "source": [
    "df = er_io.get_users()\n",
    "df"
   ]
  },
  {
   "cell_type": "markdown",
   "metadata": {},
   "source": [
    "## POST `Observation`"
   ]
  },
  {
   "cell_type": "markdown",
   "metadata": {},
   "source": [
    "Upload observations for existing source "
   ]
  },
  {
   "cell_type": "code",
   "execution_count": null,
   "metadata": {},
   "outputs": [],
   "source": [
    "observations = [\n",
    "    {\n",
    "        \"fixtime\": pd.Timestamp.utcnow().isoformat(),\n",
    "        \"geometry\": Point(0, 0),\n",
    "        \"source_id\": \"d8f92f6e-1121-4833-b11c-6fc1ca334ff0\",\n",
    "    },\n",
    "    {\n",
    "        \"fixtime\": pd.Timestamp.utcnow().isoformat(),\n",
    "        \"geometry\": Point(0, 0),\n",
    "        \"source_id\": \"d8f92f6e-1121-4833-b11c-6fc1ca334ff0\",\n",
    "    },\n",
    "    {\n",
    "        \"fixtime\": pd.Timestamp.utcnow().isoformat(),\n",
    "        \"geometry\": Point(1, 1),\n",
    "        \"source_id\": \"f46b6e92-a09d-41dd-bc42-8244870189fd\",\n",
    "    },\n",
    "]\n",
    "\n",
    "gdf = gpd.GeoDataFrame.from_dict(observations)\n",
    "gdf"
   ]
  },
  {
   "cell_type": "markdown",
   "metadata": {},
   "source": [
    "Post:"
   ]
  },
  {
   "cell_type": "code",
   "execution_count": null,
   "metadata": {},
   "outputs": [],
   "source": [
    "er_io.post_observations(observations=gdf, source_id_col=\"source_id\", recorded_at_col=\"fixtime\")"
   ]
  },
  {
   "cell_type": "markdown",
   "metadata": {},
   "source": [
    "## POST `SubjectSource`"
   ]
  },
  {
   "cell_type": "code",
   "execution_count": null,
   "metadata": {},
   "outputs": [],
   "source": [
    "er_io.post_subjectsource(\n",
    "    subject_id=\"216b033d-c4ad-444a-9f41-baa6c97cde7d\",\n",
    "    source_id=\"d8f92f6e-1121-4833-b11c-6fc1ca334ff0\",\n",
    "    lower_bound_assignend_range=pd.Timestamp.utcnow().isoformat(),\n",
    "    upper_bound_assigned_range=(pd.Timestamp.utcnow() + pd.Timedelta(days=30)).isoformat(),\n",
    "    additional={},\n",
    ")"
   ]
  },
  {
   "cell_type": "markdown",
   "metadata": {},
   "source": [
    "## Export to File"
   ]
  },
  {
   "cell_type": "markdown",
   "metadata": {},
   "source": [
    "### Create test data\n",
    "\n",
    "Skip this cell if you would like to provide your own data"
   ]
  },
  {
   "cell_type": "code",
   "execution_count": null,
   "metadata": {},
   "outputs": [],
   "source": [
    "since = pd.Timestamp.utcnow() - pd.Timedelta(days=30)\n",
    "until = pd.Timestamp.utcnow()\n",
    "\n",
    "relocs = er_io.get_subjectgroup_observations(\n",
    "    group_name=\"Rhinos\",\n",
    "    include_inactive=True,\n",
    "    include_details=True,\n",
    "    include_subject_details=True,\n",
    "    include_source_details=True,\n",
    "    include_subjectsource_details=True,\n",
    "    since=since,\n",
    "    until=until,\n",
    "    filter=0,\n",
    ")"
   ]
  },
  {
   "cell_type": "markdown",
   "metadata": {},
   "source": [
    "### GeoPackage (.gpkg) \n",
    "(GeoPackage does not support columns with type `list` so we `drop` them.)"
   ]
  },
  {
   "cell_type": "code",
   "execution_count": null,
   "metadata": {},
   "outputs": [],
   "source": [
    "relocs.drop(\n",
    "    columns=relocs.columns[relocs.applymap(lambda x: isinstance(x, list)).any()],\n",
    "    errors=\"ignore\",\n",
    "    inplace=True,\n",
    ")\n",
    "\n",
    "relocs.to_file(os.path.join(output_dir, \"easter_island.gpkg\"), layer=\"easter_island\")"
   ]
  },
  {
   "cell_type": "markdown",
   "metadata": {},
   "source": [
    "### CSV"
   ]
  },
  {
   "cell_type": "code",
   "execution_count": null,
   "metadata": {},
   "outputs": [],
   "source": [
    "relocs.to_csv(os.path.join(output_dir, \"observations.csv\"))"
   ]
  },
  {
   "cell_type": "markdown",
   "metadata": {},
   "source": [
    "### Python Pickle (.pkl)"
   ]
  },
  {
   "cell_type": "code",
   "execution_count": null,
   "metadata": {},
   "outputs": [],
   "source": [
    "relocs.to_pickle(os.path.join(output_dir, \"observations.pkl\"))"
   ]
  },
  {
   "cell_type": "markdown",
   "metadata": {},
   "source": [
    "### Apache Feather (.feather)"
   ]
  },
  {
   "cell_type": "code",
   "execution_count": null,
   "metadata": {},
   "outputs": [],
   "source": [
    "relocs.to_feather(os.path.join(output_dir, \"observations.feather\"))"
   ]
  }
 ],
 "metadata": {
  "kernelspec": {
   "display_name": "Python 3 (ipykernel)",
   "language": "python",
   "name": "python3"
  },
  "language_info": {
   "codemirror_mode": {
    "name": "ipython",
    "version": 3
   },
   "file_extension": ".py",
   "mimetype": "text/x-python",
   "name": "python",
   "nbconvert_exporter": "python",
   "pygments_lexer": "ipython3",
   "version": "3.7.12"
  }
 },
 "nbformat": 4,
 "nbformat_minor": 4
}
