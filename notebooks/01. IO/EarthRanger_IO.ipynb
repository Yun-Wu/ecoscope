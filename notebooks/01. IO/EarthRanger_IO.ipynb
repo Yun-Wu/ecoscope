{
 "cells": [
  {
   "cell_type": "markdown",
   "metadata": {},
   "source": [
    "# EarthRanger IO"
   ]
  },
  {
   "cell_type": "markdown",
   "metadata": {},
   "source": [
    "## Setup"
   ]
  },
  {
   "cell_type": "markdown",
   "metadata": {},
   "source": [
    "### Ecoscope"
   ]
  },
  {
   "cell_type": "code",
   "execution_count": 1,
   "metadata": {
    "tags": []
   },
   "outputs": [],
   "source": [
    "!pip install ecoscope &> /dev/null"
   ]
  },
  {
   "cell_type": "code",
   "execution_count": 2,
   "metadata": {
    "tags": []
   },
   "outputs": [
    {
     "name": "stderr",
     "output_type": "stream",
     "text": [
      "/home/gitonga/anaconda3/envs/ecoscope/lib/python3.8/site-packages/geopandas/_compat.py:123: UserWarning: The Shapely GEOS version (3.11.1-CAPI-1.17.1) is incompatible with the GEOS version PyGEOS was compiled with (3.10.4-CAPI-1.16.2). Conversions between both will be slow.\n",
      "  warnings.warn(\n",
      "/tmp/ipykernel_77657/1215752612.py:6: UserWarning: Shapely 2.0 is installed, but because PyGEOS is also installed, GeoPandas will still use PyGEOS by default for now. To force to use and test Shapely 2.0, you have to set the environment variable USE_PYGEOS=0. You can do this before starting the Python process, or in your code before importing geopandas:\n",
      "\n",
      "import os\n",
      "os.environ['USE_PYGEOS'] = '0'\n",
      "import geopandas\n",
      "\n",
      "In a future release, GeoPandas will switch to using Shapely by default. If you are using PyGEOS directly (calling PyGEOS functions on geometries from GeoPandas), this will then stop working and you are encouraged to migrate from PyGEOS to Shapely 2.0 (https://shapely.readthedocs.io/en/latest/migration_pygeos.html).\n",
      "  import geopandas as gpd\n"
     ]
    },
    {
     "name": "stdout",
     "output_type": "stream",
     "text": [
      " _____\n",
      "|   __|___ ___ ___ ___ ___ ___ ___\n",
      "|   __|  _| . |_ -|  _| . | . | -_|\n",
      "|_____|___|___|___|___|___|  _|___|\n",
      "                          |_|\n",
      "\n"
     ]
    }
   ],
   "source": [
    "import getpass\n",
    "import json\n",
    "import os\n",
    "import sys\n",
    "\n",
    "import geopandas as gpd\n",
    "import pandas as pd\n",
    "from erclient.client import ERClientException\n",
    "from shapely.geometry import Point\n",
    "\n",
    "import ecoscope\n",
    "\n",
    "ecoscope.init()"
   ]
  },
  {
   "cell_type": "markdown",
   "metadata": {},
   "source": [
    "### Google Drive Setup"
   ]
  },
  {
   "cell_type": "code",
   "execution_count": null,
   "metadata": {
    "tags": []
   },
   "outputs": [],
   "source": [
    "output_dir = \"Ecoscope-Outputs\"\n",
    "\n",
    "if \"google.colab\" in sys.modules:\n",
    "    from google.colab import drive\n",
    "\n",
    "    drive.mount(\"/content/drive/\", force_remount=True)\n",
    "    output_dir = os.path.join(\"/content/drive/MyDrive/\", output_dir)\n",
    "\n",
    "os.makedirs(output_dir, exist_ok=True)"
   ]
  },
  {
   "cell_type": "markdown",
   "metadata": {},
   "source": [
    "### Connect to EarthRanger"
   ]
  },
  {
   "cell_type": "code",
   "execution_count": 12,
   "metadata": {
    "tags": []
   },
   "outputs": [
    {
     "name": "stdin",
     "output_type": "stream",
     "text": [
      "Please enter your ER password:  ········\n"
     ]
    }
   ],
   "source": [
    "ER_SERVER = os.getenv(\"ER_SERVER\", \"https://mep-dev.pamdas.org\")\n",
    "ER_USERNAME = os.getenv(\"ER_USERNAME\", \"gitonga\")\n",
    "\n",
    "ER_PASSWORD = os.getenv(\"ER_PASSWORD\", \"\")\n",
    "\n",
    "if not ER_PASSWORD:\n",
    "    ER_PASSWORD = getpass.getpass(\"Please enter your ER password: \")\n",
    "\n",
    "er_io = ecoscope.io.EarthRangerIO(\n",
    "    server=ER_SERVER,\n",
    "    username=ER_USERNAME,\n",
    "    password=ER_PASSWORD,\n",
    "    tcp_limit=5,\n",
    "    sub_page_size=4000,\n",
    ")"
   ]
  },
  {
   "cell_type": "markdown",
   "metadata": {},
   "source": [
    "## GET `Event`"
   ]
  },
  {
   "cell_type": "markdown",
   "metadata": {},
   "source": [
    "### By `event_ids`\n",
    "Use this approach to download an individual `Event` if you know its id. Downloading from multiple ids at once is currently unsupported in ER."
   ]
  },
  {
   "cell_type": "code",
   "execution_count": null,
   "metadata": {
    "tags": []
   },
   "outputs": [],
   "source": [
    "er_io.get_events(\n",
    "    event_ids=\"855903a6-dfab-4b91-b75d-c993bea1208d\",  # Elephant sighting event\n",
    ")"
   ]
  },
  {
   "cell_type": "markdown",
   "metadata": {},
   "source": [
    "### By `event_type`\n",
    "Use this approach if you want to download events of a given event type (using the EventType ID from ER)"
   ]
  },
  {
   "cell_type": "code",
   "execution_count": null,
   "metadata": {},
   "outputs": [],
   "source": [
    "er_io.get_events(\n",
    "    event_type=[\"518bcc0a-fd6a-4607-a066-56f716720b0c\"],  # MEP Elephant Sighting\n",
    "    since=pd.Timestamp(\"2019-05-01\").isoformat(),\n",
    "    until=pd.Timestamp(\"2020-05-01\").isoformat(),\n",
    ")"
   ]
  },
  {
   "cell_type": "markdown",
   "metadata": {},
   "source": [
    "### Unpack `event_details` column of `JSON` data into individual columns"
   ]
  },
  {
   "cell_type": "code",
   "execution_count": null,
   "metadata": {},
   "outputs": [],
   "source": [
    "events_df = er_io.get_events(event_type=[\"e00ce1f6-f9f1-48af-93c9-fb89ec493b8a\"])  # MEP Distance Survey Count\n",
    "events_df.event_details"
   ]
  },
  {
   "cell_type": "code",
   "execution_count": null,
   "metadata": {},
   "outputs": [],
   "source": [
    "er_io._normalize_column(events_df, \"event_details\")\n",
    "events_df"
   ]
  },
  {
   "cell_type": "markdown",
   "metadata": {},
   "source": [
    "## POST `Event`\n",
    "\n",
    "First delete any existing events:"
   ]
  },
  {
   "cell_type": "code",
   "execution_count": null,
   "metadata": {},
   "outputs": [],
   "source": [
    "event_df = er_io.get_events(\n",
    "    event_type=[\"b0d66402-34cb-4e9a-9715-2ac4eeebb574\"],  # Carcass\n",
    ")\n",
    "\n",
    "for i, value in event_df.iterrows():\n",
    "    er_io.delete_event(event_id=event_df.loc[i, \"id\"])"
   ]
  },
  {
   "cell_type": "markdown",
   "metadata": {},
   "source": [
    "Define events to be uploaded:"
   ]
  },
  {
   "cell_type": "code",
   "execution_count": null,
   "metadata": {},
   "outputs": [],
   "source": [
    "new_event = [\n",
    "    {\n",
    "        \"event_details\": {\n",
    "            \"carcassrep_ageofanimal\": None,\n",
    "            \"carcassrep_ageofcarcass\": None,\n",
    "            \"carcassrep_causeofdeath\": None,\n",
    "            \"carcassrep_sex\": None,\n",
    "            \"carcassrep_species\": None,\n",
    "            \"carcassrep_trophystatus\": None,\n",
    "        },\n",
    "        \"event_type\": \"carcass_rep\",\n",
    "        \"icon_id\": \"carcass_rep\",\n",
    "        \"id\": \"e29f9078-ee0a-4f06-b685-92e9ff266e9b\",\n",
    "        \"location\": {\"latitude\": -27.12759, \"longitude\": -109.40804},\n",
    "        \"priority\": 100,\n",
    "        \"state\": \"resolved\",\n",
    "        \"time\": pd.Timestamp(\"2022-03-15 15:44:00-0700\"),\n",
    "        \"title\": \"Carcass\",\n",
    "    }\n",
    "]"
   ]
  },
  {
   "cell_type": "markdown",
   "metadata": {},
   "source": [
    "Read events as dataframe:"
   ]
  },
  {
   "cell_type": "code",
   "execution_count": null,
   "metadata": {},
   "outputs": [],
   "source": [
    "new_event_df = pd.DataFrame.from_dict(new_event)\n",
    "new_event_df"
   ]
  },
  {
   "cell_type": "markdown",
   "metadata": {},
   "source": [
    "Upload:"
   ]
  },
  {
   "cell_type": "code",
   "execution_count": null,
   "metadata": {},
   "outputs": [],
   "source": [
    "try:\n",
    "    er_io.post_event(events=new_event_df.iloc[[1]])\n",
    "except ERClientException as e:\n",
    "    print(e)"
   ]
  },
  {
   "cell_type": "markdown",
   "metadata": {},
   "source": [
    "## PATCH `Event`\n",
    "\n",
    "Define updated values"
   ]
  },
  {
   "cell_type": "code",
   "execution_count": null,
   "metadata": {},
   "outputs": [],
   "source": [
    "updated_event = pd.DataFrame(\n",
    "    [\n",
    "        {\n",
    "            \"event_details\": {\n",
    "                \"carcassrep_ageofanimal\": \"adult\",\n",
    "                \"carcassrep_ageofcarcass\": \"less_than_a_day\",\n",
    "                \"carcassrep_causeofdeath\": \"unnaturalshot\",\n",
    "                \"carcassrep_sex\": \"female\",\n",
    "                \"carcassrep_species\": \"elephant\",\n",
    "                \"carcassrep_trophystatus\": \"removed\",\n",
    "            }\n",
    "        }\n",
    "    ]\n",
    ")"
   ]
  },
  {
   "cell_type": "markdown",
   "metadata": {},
   "source": [
    "Get and display current values"
   ]
  },
  {
   "cell_type": "code",
   "execution_count": null,
   "metadata": {},
   "outputs": [],
   "source": [
    "event_df = er_io.get_events(\n",
    "    event_type=[\"b0d66402-34cb-4e9a-9715-2ac4eeebb574\"],  # Carcass\n",
    ")\n",
    "\n",
    "event_df.loc[0, \"event_details\"]"
   ]
  },
  {
   "cell_type": "markdown",
   "metadata": {},
   "source": [
    "Patch and confirm values have been updated"
   ]
  },
  {
   "cell_type": "code",
   "execution_count": null,
   "metadata": {},
   "outputs": [],
   "source": [
    "id_to_patch = event_df.loc[0, \"id\"]\n",
    "er_io.patch_event(event_id=id_to_patch, events=updated_event).loc[0, \"event_details\"]"
   ]
  },
  {
   "cell_type": "markdown",
   "metadata": {},
   "source": [
    "## GET `Subjects`"
   ]
  },
  {
   "cell_type": "markdown",
   "metadata": {},
   "source": [
    "### by `id`"
   ]
  },
  {
   "cell_type": "code",
   "execution_count": null,
   "metadata": {},
   "outputs": [],
   "source": [
    "er_io.get_subjects(id=\"64444ed7-72ec-4531-a2b1-fb25c7197b2d\")  # Habiba"
   ]
  },
  {
   "cell_type": "markdown",
   "metadata": {},
   "source": [
    "### By `SubjectGroup` `group_name`"
   ]
  },
  {
   "cell_type": "code",
   "execution_count": null,
   "metadata": {},
   "outputs": [],
   "source": [
    "er_io.get_subjects(group_name=\"Elephants\")"
   ]
  },
  {
   "cell_type": "markdown",
   "metadata": {},
   "source": [
    "## GET `Observations`\n",
    "\n",
    "The output is an Ecoscope `Relocations` dataframe that has a core set of columns: `groupby_col`, `fixtime`, `junk_status`.\n",
    "\n",
    "All other columns are prepended by `extra__`. The `groupby_col` will be the `subject_id` and the index of the dataframe is the observation indices.\n",
    "\n",
    "Classic ER `Observation` format can be returned by passing in parameter `relocations=False`.\n",
    "\n",
    "Filter observation by setting `filter` to one of: None, 0, 1, 2 or 3\n",
    "- None returns everything\n",
    "- 0 filters out everything but observations with exclusion flag 0 (Pass back clean data)\n",
    "- 1 filters out everything but observations with exclusion flag 1 (Pass back manually filtered data)\n",
    "- 2 filters out everything but observations with exclusion flag 2 (Ppass back automatically filtered data)\n",
    "- 3 filters out everything but observations with exclusion flag 2 or 1 (Pass back both manual and automatic filtered data)"
   ]
  },
  {
   "cell_type": "markdown",
   "metadata": {},
   "source": [
    "### By `SubjectGroup` `group_name`:"
   ]
  },
  {
   "cell_type": "code",
   "execution_count": null,
   "metadata": {},
   "outputs": [],
   "source": [
    "since = pd.Timestamp(\"2008-01-01\").isoformat()\n",
    "until = pd.Timestamp(\"2013-01-01\").isoformat()"
   ]
  },
  {
   "cell_type": "code",
   "execution_count": null,
   "metadata": {},
   "outputs": [],
   "source": [
    "relocs = er_io.get_subjectgroup_observations(\n",
    "    group_name=\"Elephants\",\n",
    "    filter=0,\n",
    "    since=since,\n",
    "    until=until,\n",
    "    include_details=True,\n",
    "    include_inactive=True,\n",
    "    include_source_details=True,\n",
    "    include_subject_details=True,\n",
    "    # include_subjectsource_details=True\n",
    ")\n",
    "relocs"
   ]
  },
  {
   "cell_type": "markdown",
   "metadata": {},
   "source": [
    "### By `subject_id`"
   ]
  },
  {
   "cell_type": "code",
   "execution_count": null,
   "metadata": {},
   "outputs": [],
   "source": [
    "relocs = er_io.get_subject_observations(\n",
    "    subject_ids=[\n",
    "        \"64444ed7-72ec-4531-a2b1-fb25c7197b2d\",  # Habiba\n",
    "        \"b8be28f7-8c20-46d9-85a5-fd817351bde5\",  # Salif Keita\n",
    "    ],\n",
    "    since=since,\n",
    "    until=until,\n",
    "    filter=0,\n",
    "    include_details=True,\n",
    "    include_subject_details=True,\n",
    "    include_source_details=True,\n",
    "    # include_subjectsource_details=True,\n",
    ")\n",
    "relocs"
   ]
  },
  {
   "cell_type": "markdown",
   "metadata": {},
   "source": [
    "### By `source_id`"
   ]
  },
  {
   "cell_type": "code",
   "execution_count": null,
   "metadata": {},
   "outputs": [],
   "source": [
    "relocs = er_io.get_source_observations(\n",
    "    source_ids=[\n",
    "        \"5e6ce0f4-5deb-47b4-a65b-539f00dc716d\",  # Habiba's Source\n",
    "        \"ea18dc70-8bcf-4eb5-8329-a0716f309fa5\",  # Salif Keita's Source\n",
    "    ],\n",
    "    since=since,\n",
    "    until=until,\n",
    "    filter=0,\n",
    "    include_details=True,\n",
    "    include_source_details=True,\n",
    ")\n",
    "relocs"
   ]
  },
  {
   "cell_type": "markdown",
   "metadata": {},
   "source": [
    "## GET `Patrols`"
   ]
  },
  {
   "cell_type": "code",
   "execution_count": 13,
   "metadata": {},
   "outputs": [
    {
     "data": {
      "text/html": [
       "<div>\n",
       "<style scoped>\n",
       "    .dataframe tbody tr th:only-of-type {\n",
       "        vertical-align: middle;\n",
       "    }\n",
       "\n",
       "    .dataframe tbody tr th {\n",
       "        vertical-align: top;\n",
       "    }\n",
       "\n",
       "    .dataframe thead th {\n",
       "        text-align: right;\n",
       "    }\n",
       "</style>\n",
       "<table border=\"1\" class=\"dataframe\">\n",
       "  <thead>\n",
       "    <tr style=\"text-align: right;\">\n",
       "      <th></th>\n",
       "      <th>id</th>\n",
       "      <th>priority</th>\n",
       "      <th>state</th>\n",
       "      <th>objective</th>\n",
       "      <th>serial_number</th>\n",
       "      <th>title</th>\n",
       "      <th>files</th>\n",
       "      <th>notes</th>\n",
       "      <th>patrol_segments</th>\n",
       "      <th>updates</th>\n",
       "    </tr>\n",
       "  </thead>\n",
       "  <tbody>\n",
       "    <tr>\n",
       "      <th>0</th>\n",
       "      <td>2c54c31b-8dff-4bf8-8d2a-94a619077e2a</td>\n",
       "      <td>100</td>\n",
       "      <td>done</td>\n",
       "      <td>None</td>\n",
       "      <td>20349</td>\n",
       "      <td>None</td>\n",
       "      <td>[]</td>\n",
       "      <td>[]</td>\n",
       "      <td>[{'id': '6b4d20b3-663b-407a-9926-33659ecc9634'...</td>\n",
       "      <td>[{'message': 'Patrol Added', 'time': '2023-05-...</td>\n",
       "    </tr>\n",
       "    <tr>\n",
       "      <th>1</th>\n",
       "      <td>e4457241-b70c-491c-876b-d4d26434df1d</td>\n",
       "      <td>100</td>\n",
       "      <td>done</td>\n",
       "      <td>None</td>\n",
       "      <td>20350</td>\n",
       "      <td>None</td>\n",
       "      <td>[]</td>\n",
       "      <td>[]</td>\n",
       "      <td>[{'id': '8b6f4310-a59f-4be4-8fa3-593a87fd1ee9'...</td>\n",
       "      <td>[{'message': 'Patrol Added', 'time': '2023-05-...</td>\n",
       "    </tr>\n",
       "    <tr>\n",
       "      <th>2</th>\n",
       "      <td>8c516f60-f5c9-456d-84a5-bd46e9b76452</td>\n",
       "      <td>100</td>\n",
       "      <td>done</td>\n",
       "      <td>None</td>\n",
       "      <td>20351</td>\n",
       "      <td>None</td>\n",
       "      <td>[]</td>\n",
       "      <td>[]</td>\n",
       "      <td>[{'id': 'fa54a990-fa4e-4896-aebb-1e92166c26c8'...</td>\n",
       "      <td>[{'message': 'Patrol Added', 'time': '2023-05-...</td>\n",
       "    </tr>\n",
       "    <tr>\n",
       "      <th>3</th>\n",
       "      <td>7296c2d2-0cef-4c4e-a84b-723d8947ad5a</td>\n",
       "      <td>100</td>\n",
       "      <td>done</td>\n",
       "      <td>None</td>\n",
       "      <td>20352</td>\n",
       "      <td>None</td>\n",
       "      <td>[]</td>\n",
       "      <td>[]</td>\n",
       "      <td>[{'id': 'baadcf5d-ca75-419e-bb23-b9ef0c2d8c0b'...</td>\n",
       "      <td>[{'message': 'Patrol Added', 'time': '2023-05-...</td>\n",
       "    </tr>\n",
       "    <tr>\n",
       "      <th>4</th>\n",
       "      <td>354b1049-9a98-44e5-b7d5-0fcaebed8cef</td>\n",
       "      <td>100</td>\n",
       "      <td>done</td>\n",
       "      <td>None</td>\n",
       "      <td>20353</td>\n",
       "      <td>None</td>\n",
       "      <td>[]</td>\n",
       "      <td>[]</td>\n",
       "      <td>[{'id': '9974f7b1-4133-43d3-bd13-ee83d0e32910'...</td>\n",
       "      <td>[{'message': 'Patrol Added', 'time': '2023-05-...</td>\n",
       "    </tr>\n",
       "    <tr>\n",
       "      <th>5</th>\n",
       "      <td>5d4e75b3-d8b4-49a7-8c22-71daaae35870</td>\n",
       "      <td>100</td>\n",
       "      <td>done</td>\n",
       "      <td>None</td>\n",
       "      <td>20354</td>\n",
       "      <td>None</td>\n",
       "      <td>[]</td>\n",
       "      <td>[]</td>\n",
       "      <td>[{'id': 'da17f1d7-e07d-4e13-8770-be7c348c554b'...</td>\n",
       "      <td>[{'message': 'Patrol Added', 'time': '2023-05-...</td>\n",
       "    </tr>\n",
       "    <tr>\n",
       "      <th>6</th>\n",
       "      <td>f85d30dc-3eab-4508-89ca-077cf9424ff5</td>\n",
       "      <td>100</td>\n",
       "      <td>done</td>\n",
       "      <td>None</td>\n",
       "      <td>20355</td>\n",
       "      <td>None</td>\n",
       "      <td>[]</td>\n",
       "      <td>[]</td>\n",
       "      <td>[{'id': '831fcb48-3b75-4785-8f1f-66cf05f2fade'...</td>\n",
       "      <td>[{'message': 'Patrol Added', 'time': '2023-05-...</td>\n",
       "    </tr>\n",
       "    <tr>\n",
       "      <th>7</th>\n",
       "      <td>5d370004-8a2a-4ae6-a93b-0e57f3335df0</td>\n",
       "      <td>100</td>\n",
       "      <td>done</td>\n",
       "      <td>None</td>\n",
       "      <td>20356</td>\n",
       "      <td>None</td>\n",
       "      <td>[]</td>\n",
       "      <td>[]</td>\n",
       "      <td>[{'id': '8b908cf1-851e-4cc8-aed6-fe0d4cb77b85'...</td>\n",
       "      <td>[{'message': 'Patrol Added', 'time': '2023-05-...</td>\n",
       "    </tr>\n",
       "    <tr>\n",
       "      <th>8</th>\n",
       "      <td>154aa1f3-b72c-4b82-b4f8-6864a8a9875f</td>\n",
       "      <td>100</td>\n",
       "      <td>done</td>\n",
       "      <td>None</td>\n",
       "      <td>20357</td>\n",
       "      <td>None</td>\n",
       "      <td>[]</td>\n",
       "      <td>[]</td>\n",
       "      <td>[{'id': 'c68278ab-9ebb-470d-926d-66d2c222d6da'...</td>\n",
       "      <td>[{'message': 'Patrol Added', 'time': '2023-05-...</td>\n",
       "    </tr>\n",
       "    <tr>\n",
       "      <th>9</th>\n",
       "      <td>434a537b-863d-45e8-9196-b4b902fcb4fb</td>\n",
       "      <td>100</td>\n",
       "      <td>done</td>\n",
       "      <td>None</td>\n",
       "      <td>20358</td>\n",
       "      <td>None</td>\n",
       "      <td>[]</td>\n",
       "      <td>[]</td>\n",
       "      <td>[{'id': '469edbe5-7daa-4e65-8bdd-666b8c0cebf4'...</td>\n",
       "      <td>[{'message': 'Patrol Added', 'time': '2023-05-...</td>\n",
       "    </tr>\n",
       "    <tr>\n",
       "      <th>10</th>\n",
       "      <td>a2dfec63-cf80-4a7a-99cd-09d2f3706ada</td>\n",
       "      <td>100</td>\n",
       "      <td>done</td>\n",
       "      <td>None</td>\n",
       "      <td>20359</td>\n",
       "      <td>None</td>\n",
       "      <td>[]</td>\n",
       "      <td>[]</td>\n",
       "      <td>[{'id': 'cf8789f7-a34c-4b27-b2dc-0973277ee0c5'...</td>\n",
       "      <td>[{'message': 'Patrol Added', 'time': '2023-05-...</td>\n",
       "    </tr>\n",
       "    <tr>\n",
       "      <th>11</th>\n",
       "      <td>2239e121-73ab-4dd9-a6ac-2e987c718918</td>\n",
       "      <td>100</td>\n",
       "      <td>done</td>\n",
       "      <td>None</td>\n",
       "      <td>20360</td>\n",
       "      <td>None</td>\n",
       "      <td>[]</td>\n",
       "      <td>[]</td>\n",
       "      <td>[{'id': '9178ddf3-49c5-4aa8-8784-08815b820cab'...</td>\n",
       "      <td>[{'message': 'Patrol Added', 'time': '2023-05-...</td>\n",
       "    </tr>\n",
       "    <tr>\n",
       "      <th>12</th>\n",
       "      <td>bacd30bc-5a39-4316-9930-7514bbe374f0</td>\n",
       "      <td>100</td>\n",
       "      <td>done</td>\n",
       "      <td>None</td>\n",
       "      <td>20361</td>\n",
       "      <td>None</td>\n",
       "      <td>[]</td>\n",
       "      <td>[]</td>\n",
       "      <td>[{'id': 'f23bf8aa-b824-47aa-902b-ef20b7e51662'...</td>\n",
       "      <td>[{'message': 'Patrol Added', 'time': '2023-05-...</td>\n",
       "    </tr>\n",
       "    <tr>\n",
       "      <th>13</th>\n",
       "      <td>5109bd8b-c6ee-4c5f-b300-203538147475</td>\n",
       "      <td>100</td>\n",
       "      <td>done</td>\n",
       "      <td>None</td>\n",
       "      <td>20362</td>\n",
       "      <td>None</td>\n",
       "      <td>[]</td>\n",
       "      <td>[]</td>\n",
       "      <td>[{'id': '7c916105-6ec9-4deb-85b4-920a10244b8b'...</td>\n",
       "      <td>[{'message': 'Patrol Added', 'time': '2023-05-...</td>\n",
       "    </tr>\n",
       "    <tr>\n",
       "      <th>14</th>\n",
       "      <td>398ec1c7-72f3-432b-a2cd-b7641fb87811</td>\n",
       "      <td>100</td>\n",
       "      <td>done</td>\n",
       "      <td>None</td>\n",
       "      <td>20363</td>\n",
       "      <td>None</td>\n",
       "      <td>[]</td>\n",
       "      <td>[]</td>\n",
       "      <td>[{'id': '7a5bfbdb-d6eb-438c-a43f-061d0c602caf'...</td>\n",
       "      <td>[{'message': 'Patrol Added', 'time': '2023-05-...</td>\n",
       "    </tr>\n",
       "    <tr>\n",
       "      <th>15</th>\n",
       "      <td>aa12a4d6-63b0-4c43-b3fa-78638e76fa4e</td>\n",
       "      <td>100</td>\n",
       "      <td>done</td>\n",
       "      <td>None</td>\n",
       "      <td>20364</td>\n",
       "      <td>None</td>\n",
       "      <td>[]</td>\n",
       "      <td>[]</td>\n",
       "      <td>[{'id': 'cae8f92f-f1b9-445f-ba3d-61131daee9ca'...</td>\n",
       "      <td>[{'message': 'Patrol Added', 'time': '2023-05-...</td>\n",
       "    </tr>\n",
       "    <tr>\n",
       "      <th>16</th>\n",
       "      <td>884f600b-6d03-4120-b4c9-7cb669ee319c</td>\n",
       "      <td>100</td>\n",
       "      <td>done</td>\n",
       "      <td>None</td>\n",
       "      <td>20365</td>\n",
       "      <td>None</td>\n",
       "      <td>[]</td>\n",
       "      <td>[]</td>\n",
       "      <td>[{'id': '6fc0a828-4a11-49b9-b2bc-5d5ea6816084'...</td>\n",
       "      <td>[{'message': 'Patrol Added', 'time': '2023-05-...</td>\n",
       "    </tr>\n",
       "  </tbody>\n",
       "</table>\n",
       "</div>"
      ],
      "text/plain": [
       "                                      id  priority state objective  \\\n",
       "0   2c54c31b-8dff-4bf8-8d2a-94a619077e2a       100  done      None   \n",
       "1   e4457241-b70c-491c-876b-d4d26434df1d       100  done      None   \n",
       "2   8c516f60-f5c9-456d-84a5-bd46e9b76452       100  done      None   \n",
       "3   7296c2d2-0cef-4c4e-a84b-723d8947ad5a       100  done      None   \n",
       "4   354b1049-9a98-44e5-b7d5-0fcaebed8cef       100  done      None   \n",
       "5   5d4e75b3-d8b4-49a7-8c22-71daaae35870       100  done      None   \n",
       "6   f85d30dc-3eab-4508-89ca-077cf9424ff5       100  done      None   \n",
       "7   5d370004-8a2a-4ae6-a93b-0e57f3335df0       100  done      None   \n",
       "8   154aa1f3-b72c-4b82-b4f8-6864a8a9875f       100  done      None   \n",
       "9   434a537b-863d-45e8-9196-b4b902fcb4fb       100  done      None   \n",
       "10  a2dfec63-cf80-4a7a-99cd-09d2f3706ada       100  done      None   \n",
       "11  2239e121-73ab-4dd9-a6ac-2e987c718918       100  done      None   \n",
       "12  bacd30bc-5a39-4316-9930-7514bbe374f0       100  done      None   \n",
       "13  5109bd8b-c6ee-4c5f-b300-203538147475       100  done      None   \n",
       "14  398ec1c7-72f3-432b-a2cd-b7641fb87811       100  done      None   \n",
       "15  aa12a4d6-63b0-4c43-b3fa-78638e76fa4e       100  done      None   \n",
       "16  884f600b-6d03-4120-b4c9-7cb669ee319c       100  done      None   \n",
       "\n",
       "    serial_number title files notes  \\\n",
       "0           20349  None    []    []   \n",
       "1           20350  None    []    []   \n",
       "2           20351  None    []    []   \n",
       "3           20352  None    []    []   \n",
       "4           20353  None    []    []   \n",
       "5           20354  None    []    []   \n",
       "6           20355  None    []    []   \n",
       "7           20356  None    []    []   \n",
       "8           20357  None    []    []   \n",
       "9           20358  None    []    []   \n",
       "10          20359  None    []    []   \n",
       "11          20360  None    []    []   \n",
       "12          20361  None    []    []   \n",
       "13          20362  None    []    []   \n",
       "14          20363  None    []    []   \n",
       "15          20364  None    []    []   \n",
       "16          20365  None    []    []   \n",
       "\n",
       "                                      patrol_segments  \\\n",
       "0   [{'id': '6b4d20b3-663b-407a-9926-33659ecc9634'...   \n",
       "1   [{'id': '8b6f4310-a59f-4be4-8fa3-593a87fd1ee9'...   \n",
       "2   [{'id': 'fa54a990-fa4e-4896-aebb-1e92166c26c8'...   \n",
       "3   [{'id': 'baadcf5d-ca75-419e-bb23-b9ef0c2d8c0b'...   \n",
       "4   [{'id': '9974f7b1-4133-43d3-bd13-ee83d0e32910'...   \n",
       "5   [{'id': 'da17f1d7-e07d-4e13-8770-be7c348c554b'...   \n",
       "6   [{'id': '831fcb48-3b75-4785-8f1f-66cf05f2fade'...   \n",
       "7   [{'id': '8b908cf1-851e-4cc8-aed6-fe0d4cb77b85'...   \n",
       "8   [{'id': 'c68278ab-9ebb-470d-926d-66d2c222d6da'...   \n",
       "9   [{'id': '469edbe5-7daa-4e65-8bdd-666b8c0cebf4'...   \n",
       "10  [{'id': 'cf8789f7-a34c-4b27-b2dc-0973277ee0c5'...   \n",
       "11  [{'id': '9178ddf3-49c5-4aa8-8784-08815b820cab'...   \n",
       "12  [{'id': 'f23bf8aa-b824-47aa-902b-ef20b7e51662'...   \n",
       "13  [{'id': '7c916105-6ec9-4deb-85b4-920a10244b8b'...   \n",
       "14  [{'id': '7a5bfbdb-d6eb-438c-a43f-061d0c602caf'...   \n",
       "15  [{'id': 'cae8f92f-f1b9-445f-ba3d-61131daee9ca'...   \n",
       "16  [{'id': '6fc0a828-4a11-49b9-b2bc-5d5ea6816084'...   \n",
       "\n",
       "                                              updates  \n",
       "0   [{'message': 'Patrol Added', 'time': '2023-05-...  \n",
       "1   [{'message': 'Patrol Added', 'time': '2023-05-...  \n",
       "2   [{'message': 'Patrol Added', 'time': '2023-05-...  \n",
       "3   [{'message': 'Patrol Added', 'time': '2023-05-...  \n",
       "4   [{'message': 'Patrol Added', 'time': '2023-05-...  \n",
       "5   [{'message': 'Patrol Added', 'time': '2023-05-...  \n",
       "6   [{'message': 'Patrol Added', 'time': '2023-05-...  \n",
       "7   [{'message': 'Patrol Added', 'time': '2023-05-...  \n",
       "8   [{'message': 'Patrol Added', 'time': '2023-05-...  \n",
       "9   [{'message': 'Patrol Added', 'time': '2023-05-...  \n",
       "10  [{'message': 'Patrol Added', 'time': '2023-05-...  \n",
       "11  [{'message': 'Patrol Added', 'time': '2023-05-...  \n",
       "12  [{'message': 'Patrol Added', 'time': '2023-05-...  \n",
       "13  [{'message': 'Patrol Added', 'time': '2023-05-...  \n",
       "14  [{'message': 'Patrol Added', 'time': '2023-05-...  \n",
       "15  [{'message': 'Patrol Added', 'time': '2023-05-...  \n",
       "16  [{'message': 'Patrol Added', 'time': '2023-05-...  "
      ]
     },
     "execution_count": 13,
     "metadata": {},
     "output_type": "execute_result"
    }
   ],
   "source": [
    "er_io.get_patrols(\n",
    "    patrol_type=[\"0ef3bf48-b44c-4a4e-a145-7ab2e38c9a57\"] # MEP Distance Count Survey\n",
    ")  "
   ]
  },
  {
   "cell_type": "markdown",
   "metadata": {},
   "source": [
    "## GET `Observations` for a `Patrol`"
   ]
  },
  {
   "cell_type": "code",
   "execution_count": null,
   "metadata": {},
   "outputs": [],
   "source": [
    "patrol_df = er_io.get_patrols()\n",
    "\n",
    "relocs = er_io.get_observations_for_patrols(\n",
    "    patrol_df,\n",
    "    include_source_details=False,\n",
    "    include_subject_details=False,\n",
    "    include_subjectsource_details=False,\n",
    ")"
   ]
  },
  {
   "cell_type": "markdown",
   "metadata": {},
   "source": [
    "## GET `Users`"
   ]
  },
  {
   "cell_type": "code",
   "execution_count": null,
   "metadata": {},
   "outputs": [],
   "source": [
    "df = pd.DataFrame(er_io.get_users())\n",
    "df"
   ]
  },
  {
   "cell_type": "markdown",
   "metadata": {},
   "source": [
    "## POST `Observation`"
   ]
  },
  {
   "cell_type": "markdown",
   "metadata": {},
   "source": [
    "Upload observations for existing source "
   ]
  },
  {
   "cell_type": "code",
   "execution_count": null,
   "metadata": {},
   "outputs": [],
   "source": [
    "observations = [\n",
    "    {\n",
    "        \"fixtime\": pd.Timestamp.utcnow().isoformat(),\n",
    "        \"geometry\": Point(0, 0),\n",
    "        \"source_id\": \"5e6ce0f4-5deb-47b4-a65b-539f00dc716d\",  # Habiba's source\n",
    "    },\n",
    "    {\n",
    "        \"fixtime\": pd.Timestamp(\"2023-02-01\").isoformat(),\n",
    "        \"geometry\": Point(1.345, 2.3303),\n",
    "        \"source_id\": \"5e6ce0f4-5deb-47b4-a65b-539f00dc716d\",  # Habiba's source\n",
    "    },\n",
    "    {\n",
    "        \"fixtime\": pd.Timestamp(\"2023-03-21\").isoformat(),\n",
    "        \"geometry\": Point(3.4455, -3.4554),\n",
    "        \"source_id\": \"ea18dc70-8bcf-4eb5-8329-a0716f309fa5\",  # Salif Keita's source\n",
    "    },\n",
    "]\n",
    "\n",
    "gdf = gpd.GeoDataFrame.from_dict(observations)\n",
    "gdf"
   ]
  },
  {
   "cell_type": "markdown",
   "metadata": {},
   "source": [
    "Post:"
   ]
  },
  {
   "cell_type": "code",
   "execution_count": null,
   "metadata": {},
   "outputs": [],
   "source": [
    "er_io.post_observations(observations=gdf, source_id_col=\"source_id\", recorded_at_col=\"fixtime\")"
   ]
  },
  {
   "cell_type": "markdown",
   "metadata": {},
   "source": [
    "## POST `SubjectSource`"
   ]
  },
  {
   "cell_type": "code",
   "execution_count": null,
   "metadata": {},
   "outputs": [],
   "source": [
    "er_io.post_subjectsource(\n",
    "    subject_id=\"b8be28f7-8c20-46d9-85a5-fd817351bde5\",  # Salif Keita\n",
    "    source_id=\"ea18dc70-8bcf-4eb5-8329-a0716f309fa5\",  # Salif Keita's source\n",
    "    lower_bound_assigned_range=pd.Timestamp.utcnow().isoformat(),\n",
    "    upper_bound_assigned_range=(pd.Timestamp.utcnow() + pd.Timedelta(days=30)).isoformat(),\n",
    "    additional={},\n",
    ")"
   ]
  },
  {
   "cell_type": "markdown",
   "metadata": {},
   "source": [
    "## Export to File"
   ]
  },
  {
   "cell_type": "markdown",
   "metadata": {},
   "source": [
    "### Create test data\n",
    "\n",
    "Skip this cell if you would like to provide your own data"
   ]
  },
  {
   "cell_type": "code",
   "execution_count": null,
   "metadata": {},
   "outputs": [],
   "source": [
    "relocs = er_io.get_subjectgroup_observations(\n",
    "    group_name=\"Elephants\",\n",
    "    filter=0,\n",
    "    since=since,\n",
    "    until=until,\n",
    "    include_details=True,\n",
    "    include_inactive=True,\n",
    "    include_source_details=True,\n",
    "    include_subject_details=True,\n",
    "    # include_subjectsource_details=True\n",
    ")"
   ]
  },
  {
   "cell_type": "markdown",
   "metadata": {},
   "source": [
    "### GeoPackage (.gpkg) \n",
    "(GeoPackage does not support columns with type `list` so we `drop` them.)"
   ]
  },
  {
   "cell_type": "code",
   "execution_count": null,
   "metadata": {},
   "outputs": [],
   "source": [
    "relocs.drop(\n",
    "    columns=relocs.columns[relocs.applymap(lambda x: isinstance(x, list)).any()],\n",
    "    errors=\"ignore\",\n",
    "    inplace=True,\n",
    ")\n",
    "\n",
    "relocs.to_file(os.path.join(output_dir, \"easter_island.gpkg\"), layer=\"easter_island\")"
   ]
  },
  {
   "cell_type": "markdown",
   "metadata": {},
   "source": [
    "### CSV"
   ]
  },
  {
   "cell_type": "code",
   "execution_count": null,
   "metadata": {},
   "outputs": [],
   "source": [
    "relocs.to_csv(os.path.join(output_dir, \"observations.csv\"))"
   ]
  },
  {
   "cell_type": "markdown",
   "metadata": {},
   "source": [
    "### Python Pickle (.pkl)"
   ]
  },
  {
   "cell_type": "code",
   "execution_count": null,
   "metadata": {},
   "outputs": [],
   "source": [
    "relocs.to_pickle(os.path.join(output_dir, \"observations.pkl\"))"
   ]
  },
  {
   "cell_type": "markdown",
   "metadata": {},
   "source": [
    "### Apache Feather (.feather)"
   ]
  },
  {
   "cell_type": "code",
   "execution_count": null,
   "metadata": {},
   "outputs": [],
   "source": [
    "relocs.to_feather(os.path.join(output_dir, \"observations.feather\"))"
   ]
  }
 ],
 "metadata": {
  "kernelspec": {
   "display_name": "Python 3 (ipykernel)",
   "language": "python",
   "name": "python3"
  },
  "language_info": {
   "codemirror_mode": {
    "name": "ipython",
    "version": 3
   },
   "file_extension": ".py",
   "mimetype": "text/x-python",
   "name": "python",
   "nbconvert_exporter": "python",
   "pygments_lexer": "ipython3",
   "version": "3.8.10"
  }
 },
 "nbformat": 4,
 "nbformat_minor": 4
}
