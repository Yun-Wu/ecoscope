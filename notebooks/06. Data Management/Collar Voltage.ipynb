{
 "cells": [
  {
   "cell_type": "markdown",
   "metadata": {},
   "source": [
    "# Collar Voltage"
   ]
  },
  {
   "cell_type": "markdown",
   "metadata": {
    "tags": []
   },
   "source": [
    "## Setup"
   ]
  },
  {
   "cell_type": "markdown",
   "metadata": {},
   "source": [
    "### Ecoscope"
   ]
  },
  {
   "cell_type": "code",
   "execution_count": null,
   "metadata": {
    "tags": []
   },
   "outputs": [],
   "source": [
    "!pip install ecoscope &> /dev/null"
   ]
  },
  {
   "cell_type": "code",
   "execution_count": null,
   "metadata": {
    "tags": []
   },
   "outputs": [],
   "source": [
    "import getpass\n",
    "import os\n",
    "import sys\n",
    "\n",
    "import pandas as pd\n",
    "\n",
    "import ecoscope\n",
    "\n",
    "ecoscope.init()"
   ]
  },
  {
   "cell_type": "markdown",
   "metadata": {},
   "source": [
    "### Google Drive Setup"
   ]
  },
  {
   "cell_type": "code",
   "execution_count": null,
   "metadata": {
    "tags": []
   },
   "outputs": [],
   "source": [
    "output_dir = \"Ecoscope-Outputs\"\n",
    "\n",
    "if \"google.colab\" in sys.modules:\n",
    "    from google.colab import drive\n",
    "\n",
    "    drive.mount(\"/content/drive/\", force_remount=True)\n",
    "    output_dir = os.path.join(\"/content/drive/MyDrive/\", output_dir)\n",
    "\n",
    "os.makedirs(output_dir, exist_ok=True)"
   ]
  },
  {
   "cell_type": "markdown",
   "metadata": {},
   "source": [
    "### Connect EarthRanger"
   ]
  },
  {
   "cell_type": "code",
   "execution_count": null,
   "metadata": {
    "tags": []
   },
   "outputs": [],
   "source": [
    "ER_SERVER = os.getenv(\"ER_SERVER\", \"https://mep-dev.pamdas.org\")\n",
    "ER_USERNAME = os.getenv(\"ER_USERNAME\", \"username\")  # replace with your username\n",
    "\n",
    "ER_PASSWORD = os.getenv(\"ER_PASSWORD\", \"\")\n",
    "\n",
    "if not ER_PASSWORD:\n",
    "    ER_PASSWORD = getpass.getpass(\"Please enter your ER password: \")\n",
    "\n",
    "er_io = ecoscope.io.EarthRangerIO(\n",
    "    server=ER_SERVER,\n",
    "    username=ER_USERNAME,\n",
    "    password=ER_PASSWORD,\n",
    "    tcp_limit=5,\n",
    "    sub_page_size=4000,\n",
    ")"
   ]
  },
  {
   "cell_type": "markdown",
   "metadata": {
    "tags": []
   },
   "source": [
    "## Download Observations with Details"
   ]
  },
  {
   "cell_type": "code",
   "execution_count": null,
   "metadata": {
    "tags": []
   },
   "outputs": [],
   "source": [
    "observations = er_io.get_subjectgroup_observations(\n",
    "    group_name=\"Elephants_Shimba\",\n",
    "    include_subject_details=True,\n",
    "    include_subjectsource_details=True,\n",
    "    include_details=True,\n",
    ")"
   ]
  },
  {
   "cell_type": "code",
   "execution_count": null,
   "metadata": {
    "tags": []
   },
   "outputs": [],
   "source": [
    "observations.head()"
   ]
  },
  {
   "cell_type": "markdown",
   "metadata": {
    "tags": []
   },
   "source": [
    "## Plot Collar Voltage"
   ]
  },
  {
   "cell_type": "code",
   "execution_count": null,
   "metadata": {
    "tags": []
   },
   "outputs": [],
   "source": [
    "start_time = pd.Timestamp(\"2022-06-02\").isoformat()\n",
    "start_time"
   ]
  },
  {
   "cell_type": "code",
   "execution_count": null,
   "metadata": {
    "tags": []
   },
   "outputs": [],
   "source": [
    "ecoscope.plotting.plot_collar_voltage(observations, start_time=start_time)"
   ]
  }
 ],
 "metadata": {
  "kernelspec": {
   "display_name": "Python 3 (ipykernel)",
   "language": "python",
   "name": "python3"
  },
  "language_info": {
   "codemirror_mode": {
    "name": "ipython",
    "version": 3
   },
   "file_extension": ".py",
   "mimetype": "text/x-python",
   "name": "python",
   "nbconvert_exporter": "python",
   "pygments_lexer": "ipython3",
   "version": "3.8.10"
  }
 },
 "nbformat": 4,
 "nbformat_minor": 4
}
